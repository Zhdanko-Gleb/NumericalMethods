{
 "cells": [
  {
   "cell_type": "code",
   "execution_count": 4,
   "metadata": {},
   "outputs": [],
   "source": [
    "import sympy as sym\n",
    "def finite_difference(derivative_order, accuracy_order, method = 'fw'):\n",
    "    h = sym.Symbol('h')\n",
    "    D = sym.Symbol('D')\n",
    "    N = derivative_order + accuracy_order\n",
    "    rhs_exp = []\n",
    "    rhs_coeffs = []\n",
    "    values = []\n",
    "    rhs = 0\n",
    "    if method == 'fw':\n",
    "        name = 'Forward Difference'\n",
    "        for i in range(N):\n",
    "            rhs_exp.append(sym.series(sym.exp(i*h),h,n = N).removeO())\n",
    "            rhs_coeffs.append(sym.Symbol('a_'+str(i)))\n",
    "            values.append(sym.Symbol('f_'+str(i)))\n",
    "            rhs += rhs_coeffs[i]*rhs_exp[i]\n",
    "    elif method == 'bw':\n",
    "        name = 'Backward Difference'\n",
    "        for i in range(N):\n",
    "            rhs_exp.append(sym.series(sym.exp(-i*h),h,n = N).removeO())\n",
    "            rhs_coeffs.append(sym.Symbol('a_'+str(-i)))\n",
    "            values.append(sym.Symbol('f_'+str(-i)))\n",
    "            rhs += rhs_coeffs[i]*rhs_exp[i]\n",
    "    elif method == 'central':\n",
    "        name = 'Central Difference'\n",
    "        for i in range(-int(N/2), int(N/2)):\n",
    "            rhs_exp.append(sym.series(sym.exp(i*h),h,n = N).removeO())\n",
    "            rhs_coeffs.append(sym.Symbol('a_'+str(i)))\n",
    "            values.append(sym.Symbol('f_'+str(i)))\n",
    "            rhs += rhs_coeffs[-1]*rhs_exp[-1]\n",
    "    poly = sym.Poly(rhs,h)\n",
    "    eqs = poly.all_coeffs()\n",
    "    poly = sym.Poly(rhs,h)\n",
    "    eqs = poly.all_coeffs()\n",
    "    eqs[-(derivative_order+1)] -= 1\n",
    "    print('System of equations: ')\n",
    "    for eq in eqs: \n",
    "        sym.pprint(eq)\n",
    "    coeffs = sym.solve(eqs,rhs_coeffs,dict = True)[0]\n",
    "    #print(coeffs)\n",
    "    rhs_final=0\n",
    "    for val,coef in zip(values,rhs_coeffs):\n",
    "        rhs_final += val*coeffs[coef]\n",
    "    print(name+f' Finite Differenfce for {derivative_order} derivative of {accuracy_order} order:')\n",
    "    sym.pprint(sym.simplify(rhs_final/(h**derivative_order)))"
   ]
  },
  {
   "cell_type": "code",
   "execution_count": 12,
   "metadata": {},
   "outputs": [
    {
     "name": "stdout",
     "output_type": "stream",
     "text": [
      "System of equations: \n",
      "  a₋₁   4⋅a₋₂   81⋅a₋₃   a₁    4⋅a₂\n",
      "- ─── - ───── - ────── + ─── + ────\n",
      "  120    15       40     120    15 \n",
      "a₋₁   2⋅a₋₂   27⋅a₋₃   a₁   2⋅a₂    \n",
      "─── + ───── + ────── + ── + ──── - 1\n",
      "24      3       8      24    3      \n",
      "  a₋₁   4⋅a₋₂   9⋅a₋₃   a₁   4⋅a₂\n",
      "- ─── - ───── - ───── + ── + ────\n",
      "   6      3       2     6     3  \n",
      "a₋₁           9⋅a₋₃   a₁       \n",
      "─── + 2⋅a₋₂ + ───── + ── + 2⋅a₂\n",
      " 2              2     2        \n",
      "-a₋₁ - 2⋅a₋₂ - 3⋅a₋₃ + a₁ + 2⋅a₂\n",
      "a₋₁ + a₋₂ + a₋₃ + a₀ + a₁ + a₂\n",
      "Central Difference Finite Differenfce for 4 derivative of 2 order:\n",
      "-4⋅f₋₁ + f₋₂ + 6⋅f₀ - 4⋅f₁ + f₂\n",
      "───────────────────────────────\n",
      "               4               \n",
      "              h                \n"
     ]
    }
   ],
   "source": [
    "finite_difference(4,2,'central')"
   ]
  },
  {
   "cell_type": "code",
   "execution_count": null,
   "metadata": {},
   "outputs": [],
   "source": []
  }
 ],
 "metadata": {
  "kernelspec": {
   "display_name": "Python 3",
   "language": "python",
   "name": "python3"
  },
  "language_info": {
   "codemirror_mode": {
    "name": "ipython",
    "version": 3
   },
   "file_extension": ".py",
   "mimetype": "text/x-python",
   "name": "python",
   "nbconvert_exporter": "python",
   "pygments_lexer": "ipython3",
   "version": "3.12.6"
  }
 },
 "nbformat": 4,
 "nbformat_minor": 2
}
